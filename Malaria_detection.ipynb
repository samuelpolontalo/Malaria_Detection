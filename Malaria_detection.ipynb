{
  "nbformat": 4,
  "nbformat_minor": 0,
  "metadata": {
    "colab": {
      "provenance": [],
      "authorship_tag": "ABX9TyNbwoGt8OwzpT9Ng80XX5bq",
      "include_colab_link": true
    },
    "kernelspec": {
      "name": "python3",
      "display_name": "Python 3"
    },
    "language_info": {
      "name": "python"
    }
  },
  "cells": [
    {
      "cell_type": "markdown",
      "metadata": {
        "id": "view-in-github",
        "colab_type": "text"
      },
      "source": [
        "<a href=\"https://colab.research.google.com/github/samuelpolontalo/Malaria_Detection/blob/main/Malaria_detection.ipynb\" target=\"_parent\"><img src=\"https://colab.research.google.com/assets/colab-badge.svg\" alt=\"Open In Colab\"/></a>"
      ]
    },
    {
      "cell_type": "code",
      "execution_count": 1,
      "metadata": {
        "id": "BSWo-nm-r6ib"
      },
      "outputs": [],
      "source": [
        "import pandas as pd\n",
        "import numpy as np\n",
        "import matplotlib.pyplot as plt\n",
        "import os\n",
        "import tensorflow as tf\n",
        "from tensorflow.keras.optimizers import RMSprop\n",
        "from tensorflow.keras.preprocessing.image import ImageDataGenerator"
      ]
    },
    {
      "cell_type": "code",
      "source": [
        "# from google.colab import files\n",
        "# files.upload()"
      ],
      "metadata": {
        "id": "kAGyqlmMutSN"
      },
      "execution_count": 2,
      "outputs": []
    },
    {
      "cell_type": "code",
      "source": [
        "# Install kaggle library \n",
        "!pip install -q kaggle\n",
        "# Make \".kaggle\" directory in root directory\n",
        "!mkdir -p ~/.kaggle\n",
        "# Copy the API token to the kaggle directory\n",
        "!cp kaggle.json ~/.kaggle/\n",
        "# Check the directory\n",
        "!ls ~/.kaggle\n",
        "# Adjust access permissions\n",
        "!chmod 600 /root/.kaggle/kaggle.json\n",
        "\n",
        "# WTF reinstall kaggle\n",
        "!pip uninstall -y kaggle\n",
        "!pip install kaggle"
      ],
      "metadata": {
        "colab": {
          "base_uri": "https://localhost:8080/"
        },
        "id": "MXafn5c3uyqU",
        "outputId": "889c9e7a-4fe7-45e2-e484-80c798bc0670"
      },
      "execution_count": 3,
      "outputs": [
        {
          "output_type": "stream",
          "name": "stdout",
          "text": [
            "cp: cannot stat 'kaggle.json': No such file or directory\n",
            "chmod: cannot access '/root/.kaggle/kaggle.json': No such file or directory\n",
            "Found existing installation: kaggle 1.5.12\n",
            "Uninstalling kaggle-1.5.12:\n",
            "  Successfully uninstalled kaggle-1.5.12\n",
            "Looking in indexes: https://pypi.org/simple, https://us-python.pkg.dev/colab-wheels/public/simple/\n",
            "Collecting kaggle\n",
            "  Downloading kaggle-1.5.12.tar.gz (58 kB)\n",
            "\u001b[K     |████████████████████████████████| 58 kB 3.5 MB/s \n",
            "\u001b[?25hRequirement already satisfied: six>=1.10 in /usr/local/lib/python3.7/dist-packages (from kaggle) (1.15.0)\n",
            "Requirement already satisfied: certifi in /usr/local/lib/python3.7/dist-packages (from kaggle) (2022.9.24)\n",
            "Requirement already satisfied: python-dateutil in /usr/local/lib/python3.7/dist-packages (from kaggle) (2.8.2)\n",
            "Requirement already satisfied: requests in /usr/local/lib/python3.7/dist-packages (from kaggle) (2.23.0)\n",
            "Requirement already satisfied: tqdm in /usr/local/lib/python3.7/dist-packages (from kaggle) (4.64.1)\n",
            "Requirement already satisfied: python-slugify in /usr/local/lib/python3.7/dist-packages (from kaggle) (6.1.2)\n",
            "Requirement already satisfied: urllib3 in /usr/local/lib/python3.7/dist-packages (from kaggle) (1.24.3)\n",
            "Requirement already satisfied: text-unidecode>=1.3 in /usr/local/lib/python3.7/dist-packages (from python-slugify->kaggle) (1.3)\n",
            "Requirement already satisfied: chardet<4,>=3.0.2 in /usr/local/lib/python3.7/dist-packages (from requests->kaggle) (3.0.4)\n",
            "Requirement already satisfied: idna<3,>=2.5 in /usr/local/lib/python3.7/dist-packages (from requests->kaggle) (2.10)\n",
            "Building wheels for collected packages: kaggle\n",
            "  Building wheel for kaggle (setup.py) ... \u001b[?25l\u001b[?25hdone\n",
            "  Created wheel for kaggle: filename=kaggle-1.5.12-py3-none-any.whl size=73052 sha256=6717405c66808696dea9be381389258f3174bc5f8a7d8fbb47b40dcb9bd4f22b\n",
            "  Stored in directory: /root/.cache/pip/wheels/62/d6/58/5853130f941e75b2177d281eb7e44b4a98ed46dd155f556dc5\n",
            "Successfully built kaggle\n",
            "Installing collected packages: kaggle\n",
            "Successfully installed kaggle-1.5.12\n"
          ]
        }
      ]
    },
    {
      "cell_type": "code",
      "source": [
        "os.environ[\"KAGGLE_USERNAME\"] = 'samuelpolontalotest'\n",
        "os.environ[\"KAGGLE_KEY\"] = '9be16db0455dd105d8abf50b24736291'"
      ],
      "metadata": {
        "id": "mlnnUHv4u7-1"
      },
      "execution_count": 4,
      "outputs": []
    },
    {
      "cell_type": "code",
      "source": [
        "!mkdir downloaded-data"
      ],
      "metadata": {
        "id": "6LV3dcCLvEeF"
      },
      "execution_count": 5,
      "outputs": []
    },
    {
      "cell_type": "code",
      "source": [
        "!kaggle datasets download -d iarunava/cell-images-for-detecting-malaria"
      ],
      "metadata": {
        "colab": {
          "base_uri": "https://localhost:8080/"
        },
        "id": "VAp6Qz22vN6p",
        "outputId": "895c65e7-c75a-4808-e4b1-51e5fb44c47d"
      },
      "execution_count": 6,
      "outputs": [
        {
          "output_type": "stream",
          "name": "stdout",
          "text": [
            "Downloading cell-images-for-detecting-malaria.zip to /content\n",
            " 99% 670M/675M [00:03<00:00, 156MB/s]\n",
            "100% 675M/675M [00:03<00:00, 178MB/s]\n"
          ]
        }
      ]
    },
    {
      "cell_type": "code",
      "source": [
        "!mkdir {\"extracted-data\"}"
      ],
      "metadata": {
        "id": "2afUmSMwvoVI"
      },
      "execution_count": 7,
      "outputs": []
    },
    {
      "cell_type": "code",
      "source": [
        "path_to_zip_file = '/content/cell-images-for-detecting-malaria.zip'"
      ],
      "metadata": {
        "id": "SvQSc9rRvzDG"
      },
      "execution_count": 8,
      "outputs": []
    },
    {
      "cell_type": "code",
      "source": [
        "directory_to_extract_to = '/content/extracted-data'"
      ],
      "metadata": {
        "id": "Om8TQG4tv1NM"
      },
      "execution_count": 9,
      "outputs": []
    },
    {
      "cell_type": "code",
      "source": [
        "import zipfile\n",
        "with zipfile.ZipFile(path_to_zip_file, 'r') as zip_ref:\n",
        "    zip_ref.extractall(directory_to_extract_to)"
      ],
      "metadata": {
        "id": "RBJ1mSJVv3h3"
      },
      "execution_count": 10,
      "outputs": []
    },
    {
      "cell_type": "code",
      "source": [
        "os.listdir('/content/extracted-data/cell_images')"
      ],
      "metadata": {
        "colab": {
          "base_uri": "https://localhost:8080/"
        },
        "id": "i8SALgptx-Yv",
        "outputId": "851a9845-b57f-42c2-c907-8c3596e87463"
      },
      "execution_count": 11,
      "outputs": [
        {
          "output_type": "execute_result",
          "data": {
            "text/plain": [
              "['cell_images', 'Parasitized', 'Uninfected']"
            ]
          },
          "metadata": {},
          "execution_count": 11
        }
      ]
    },
    {
      "cell_type": "code",
      "source": [
        "print (len(os.listdir('/content/extracted-data/cell_images/Parasitized')))\n",
        "print (len(os.listdir('/content/extracted-data/cell_images/Uninfected')))"
      ],
      "metadata": {
        "colab": {
          "base_uri": "https://localhost:8080/"
        },
        "id": "90vRXUH39PFM",
        "outputId": "e1a85d80-96ed-4faa-90f2-d104e1cf2611"
      },
      "execution_count": 12,
      "outputs": [
        {
          "output_type": "stream",
          "name": "stdout",
          "text": [
            "13780\n",
            "13780\n"
          ]
        }
      ]
    },
    {
      "cell_type": "code",
      "source": [
        "# membuat nama directori\n",
        "base_dir = '/content/extracted-data/cell_images'\n",
        "train_dir = os.path.join(base_dir,'train')\n",
        "validation_dir = os.path.join(base_dir, 'val')\n",
        "\n",
        "# membuat direktori train dan validation\n",
        "os.mkdir(train_dir)\n",
        "os.mkdir(validation_dir)"
      ],
      "metadata": {
        "id": "Yz3KkDBd_QZ1"
      },
      "execution_count": 13,
      "outputs": []
    },
    {
      "cell_type": "code",
      "source": [
        "# membuat direktori untuk setiap klasifikasi\n",
        "parasitized_dir = os.path.join(base_dir,'Parasitized')\n",
        "uninfected_dir = os.path.join(base_dir, 'Uninfected')"
      ],
      "metadata": {
        "id": "yf4KLdha_gej"
      },
      "execution_count": 14,
      "outputs": []
    },
    {
      "cell_type": "code",
      "source": [
        "import sklearn\n",
        "from sklearn import datasets\n",
        "from sklearn.model_selection import train_test_split"
      ],
      "metadata": {
        "id": "aoyRWEa7_2bM"
      },
      "execution_count": 15,
      "outputs": []
    },
    {
      "cell_type": "code",
      "source": [
        "# memecah direktori parasitized menjadi data train dan data validation\n",
        "val_parasitized_dir, train_parasitized_dir = train_test_split(os.listdir(parasitized_dir), test_size = 0.8)\n",
        "val_uninfected_dir, train_uninfected_dir = train_test_split(os.listdir(uninfected_dir), test_size = 0.8)"
      ],
      "metadata": {
        "id": "UKmVzN-N_7Hq"
      },
      "execution_count": 16,
      "outputs": []
    },
    {
      "cell_type": "code",
      "source": [
        "len(train_parasitized_dir)/len(os.listdir('/content/extracted-data/cell_images/Parasitized'))"
      ],
      "metadata": {
        "colab": {
          "base_uri": "https://localhost:8080/"
        },
        "id": "xNTeRqzqAUIT",
        "outputId": "66da1bbf-b9b7-4429-f105-91f47ec9189d"
      },
      "execution_count": 17,
      "outputs": [
        {
          "output_type": "execute_result",
          "data": {
            "text/plain": [
              "0.8"
            ]
          },
          "metadata": {},
          "execution_count": 17
        }
      ]
    },
    {
      "cell_type": "code",
      "source": [
        "#membuat direktori ruangan rapi pada direktori data training\n",
        "train_parasitized = os.path.join(train_dir, 'parasitized')\n",
        "train_uninfected = os.path.join(train_dir, 'uninfected')\n",
        "\n",
        "if not os.path.exists(train_parasitized):\n",
        "  os.mkdir(train_parasitized)\n",
        "if not os.path.exists(train_uninfected):\n",
        "  os.mkdir(train_uninfected)"
      ],
      "metadata": {
        "id": "ofqDlUC-AlrL"
      },
      "execution_count": 18,
      "outputs": []
    },
    {
      "cell_type": "code",
      "source": [
        "# membuat direktori ruangan rapi pada direktori data validating\n",
        "val_parasitized = os.path.join(validation_dir, 'parasitized')\n",
        "val_uninfected = os.path.join(validation_dir, 'uninfected')\n",
        "\n",
        "if not os.path.exists(val_parasitized):\n",
        "  os.mkdir(val_parasitized)\n",
        "if not os.path.exists(val_uninfected):\n",
        "  os.mkdir(val_uninfected)"
      ],
      "metadata": {
        "id": "7LBuq3OVAz17"
      },
      "execution_count": 19,
      "outputs": []
    },
    {
      "cell_type": "code",
      "source": [
        "# meng copy data train dan data val ke directory baru\n",
        "import shutil\n",
        "\n",
        "for i in train_parasitized_dir:\n",
        "  shutil.copy(os.path.join(parasitized_dir, i), os.path.join(train_parasitized, i))\n",
        "for i in train_uninfected_dir:\n",
        "  shutil.copy(os.path.join(uninfected_dir,i), os.path.join(train_uninfected,i))\n",
        "\n",
        "for i in val_parasitized_dir:\n",
        "  shutil.copy(os.path.join(parasitized_dir, i), os.path.join(val_parasitized,i))\n",
        "for i in val_uninfected_dir:\n",
        "  shutil.copy(os.path.join(uninfected_dir,i), os.path.join(val_uninfected,i))"
      ],
      "metadata": {
        "id": "UyJ_8S8JA-Yb"
      },
      "execution_count": 20,
      "outputs": []
    },
    {
      "cell_type": "code",
      "source": [
        "print ('jumlah data train parasitized adalah ',len(os.listdir('/content/extracted-data/cell_images/train/parasitized')))\n",
        "print ('jumlah data train uninfected adalah ',len(os.listdir('/content/extracted-data/cell_images/train/uninfected')))"
      ],
      "metadata": {
        "colab": {
          "base_uri": "https://localhost:8080/"
        },
        "id": "FS7_2ku1BO2E",
        "outputId": "65fa73b8-dc63-4911-fe4d-20a6584cfe2d"
      },
      "execution_count": 21,
      "outputs": [
        {
          "output_type": "stream",
          "name": "stdout",
          "text": [
            "jumlah data train parasitized adalah  11024\n",
            "jumlah data train uninfected adalah  11024\n"
          ]
        }
      ]
    },
    {
      "cell_type": "code",
      "source": [
        "print ('jumlah data validation parasitized adalah ',len(os.listdir('/content/extracted-data/cell_images/val/parasitized')))\n",
        "print ('jumlah data validation uninfected adalah ',len(os.listdir('/content/extracted-data/cell_images/val/uninfected')))"
      ],
      "metadata": {
        "colab": {
          "base_uri": "https://localhost:8080/"
        },
        "id": "DiBiqRGjBpvL",
        "outputId": "9f23fc7b-b928-480c-d249-3e4005ed0428"
      },
      "execution_count": 22,
      "outputs": [
        {
          "output_type": "stream",
          "name": "stdout",
          "text": [
            "jumlah data validation parasitized adalah  2756\n",
            "jumlah data validation uninfected adalah  2756\n"
          ]
        }
      ]
    },
    {
      "cell_type": "code",
      "source": [
        "train_datagen = ImageDataGenerator(\n",
        "                    rescale=1./255,\n",
        "                    rotation_range=20,\n",
        "                    horizontal_flip=True,\n",
        "                    shear_range = 0.2,\n",
        "                    fill_mode = 'nearest')\n",
        " \n",
        "test_datagen = ImageDataGenerator(\n",
        "                    rescale=1./255,\n",
        "                    rotation_range=20,\n",
        "                    horizontal_flip=True,\n",
        "                    shear_range = 0.2,\n",
        "                    fill_mode = 'nearest')"
      ],
      "metadata": {
        "id": "z6ynI_FHBxq7"
      },
      "execution_count": 23,
      "outputs": []
    },
    {
      "cell_type": "code",
      "source": [
        "train_generator = train_datagen.flow_from_directory(\n",
        "    train_dir,\n",
        "    target_size =(150,150),\n",
        "    batch_size = 32,\n",
        "    class_mode = 'categorical'\n",
        ")\n",
        "\n",
        "validation_generator = test_datagen.flow_from_directory(\n",
        "    validation_dir,\n",
        "    target_size = (150,150),\n",
        "    batch_size = 32,\n",
        "    class_mode = 'categorical'\n",
        ")"
      ],
      "metadata": {
        "colab": {
          "base_uri": "https://localhost:8080/"
        },
        "id": "sACfLbTiCB6E",
        "outputId": "c594d130-1153-490a-da6e-0fb6b66b22ca"
      },
      "execution_count": 24,
      "outputs": [
        {
          "output_type": "stream",
          "name": "stdout",
          "text": [
            "Found 22047 images belonging to 2 classes.\n",
            "Found 5511 images belonging to 2 classes.\n"
          ]
        }
      ]
    },
    {
      "cell_type": "code",
      "source": [
        "# membuat model \n",
        "model = tf.keras.models.Sequential([\n",
        "  tf.keras.layers.Conv2D(32, (3,3), activation = 'relu', input_shape= (150,150,3)),\n",
        "  tf.keras.layers.MaxPooling2D(2,2),\n",
        "  tf.keras.layers.Conv2D(64,(3,3), activation= 'relu'),\n",
        "  tf.keras.layers.MaxPooling2D(2,2),\n",
        "  tf.keras.layers.Conv2D(128,(3,3), activation= 'relu'),\n",
        "  tf.keras.layers.MaxPooling2D(2,2),\n",
        "  tf.keras.layers.Conv2D(256,(3,3), activation= 'relu'),\n",
        "  tf.keras.layers.MaxPooling2D(2,2),\n",
        "  tf.keras.layers.Flatten(),\n",
        "  tf.keras.layers.Dense(512, activation= 'relu'),\n",
        "  tf.keras.layers.Dense(2, activation= 'softmax')\n",
        "])"
      ],
      "metadata": {
        "id": "BUUcLSF5CE4k"
      },
      "execution_count": 28,
      "outputs": []
    },
    {
      "cell_type": "code",
      "source": [
        "model.compile(loss = 'categorical_crossentropy',\n",
        "              optimizer = tf.optimizers.Adam(),\n",
        "              metrics=['accuracy'])"
      ],
      "metadata": {
        "id": "bengmfBmCNrU"
      },
      "execution_count": 29,
      "outputs": []
    },
    {
      "cell_type": "code",
      "source": [
        "from datetime import datetime\n",
        "start_time = datetime.now()\n",
        "\n",
        "\n",
        "history = model.fit(\n",
        "    train_generator,\n",
        "    steps_per_epoch = 25,\n",
        "    epochs = 20,\n",
        "    validation_data = validation_generator,\n",
        "    validation_steps = 5,\n",
        "    verbose =2\n",
        ")\n",
        "\n",
        "\n",
        "end_time = datetime.now()\n",
        "print('Duration: {}'.format(end_time - start_time))"
      ],
      "metadata": {
        "colab": {
          "base_uri": "https://localhost:8080/"
        },
        "id": "fGAipJdHCP7r",
        "outputId": "380cab8b-ab11-4da6-991e-e9ccf9b7cc69"
      },
      "execution_count": 30,
      "outputs": [
        {
          "output_type": "stream",
          "name": "stdout",
          "text": [
            "Epoch 1/20\n",
            "25/25 - 51s - loss: 0.7112 - accuracy: 0.5038 - val_loss: 0.6898 - val_accuracy: 0.5000 - 51s/epoch - 2s/step\n",
            "Epoch 2/20\n",
            "25/25 - 46s - loss: 0.6534 - accuracy: 0.6200 - val_loss: 0.6038 - val_accuracy: 0.7625 - 46s/epoch - 2s/step\n",
            "Epoch 3/20\n",
            "25/25 - 46s - loss: 0.6304 - accuracy: 0.6787 - val_loss: 0.5599 - val_accuracy: 0.7875 - 46s/epoch - 2s/step\n",
            "Epoch 4/20\n",
            "25/25 - 48s - loss: 0.5359 - accuracy: 0.7788 - val_loss: 0.6441 - val_accuracy: 0.4062 - 48s/epoch - 2s/step\n",
            "Epoch 5/20\n",
            "25/25 - 46s - loss: 0.4542 - accuracy: 0.8050 - val_loss: 0.2786 - val_accuracy: 0.8938 - 46s/epoch - 2s/step\n",
            "Epoch 6/20\n",
            "25/25 - 48s - loss: 0.4234 - accuracy: 0.8687 - val_loss: 0.2272 - val_accuracy: 0.9438 - 48s/epoch - 2s/step\n",
            "Epoch 7/20\n",
            "25/25 - 46s - loss: 0.2264 - accuracy: 0.9062 - val_loss: 0.2012 - val_accuracy: 0.9312 - 46s/epoch - 2s/step\n",
            "Epoch 8/20\n",
            "25/25 - 48s - loss: 0.2044 - accuracy: 0.9362 - val_loss: 0.2830 - val_accuracy: 0.9250 - 48s/epoch - 2s/step\n",
            "Epoch 9/20\n",
            "25/25 - 46s - loss: 0.1923 - accuracy: 0.9400 - val_loss: 0.2467 - val_accuracy: 0.9125 - 46s/epoch - 2s/step\n",
            "Epoch 10/20\n",
            "Epoch 11/20\n",
            "25/25 - 48s - loss: 0.1830 - accuracy: 0.9438 - val_loss: 0.0971 - val_accuracy: 0.9563 - 48s/epoch - 2s/step\n",
            "Epoch 12/20\n",
            "25/25 - 47s - loss: 0.1693 - accuracy: 0.9438 - val_loss: 0.1637 - val_accuracy: 0.9312 - 47s/epoch - 2s/step\n",
            "Epoch 13/20\n",
            "25/25 - 46s - loss: 0.1769 - accuracy: 0.9475 - val_loss: 0.2335 - val_accuracy: 0.9250 - 46s/epoch - 2s/step\n",
            "Epoch 14/20\n",
            "25/25 - 46s - loss: 0.1718 - accuracy: 0.9400 - val_loss: 0.1236 - val_accuracy: 0.9500 - 46s/epoch - 2s/step\n",
            "Epoch 15/20\n",
            "25/25 - 47s - loss: 0.1849 - accuracy: 0.9438 - val_loss: 0.2469 - val_accuracy: 0.9062 - 47s/epoch - 2s/step\n",
            "Epoch 16/20\n",
            "25/25 - 48s - loss: 0.1814 - accuracy: 0.9450 - val_loss: 0.1639 - val_accuracy: 0.9438 - 48s/epoch - 2s/step\n",
            "Epoch 17/20\n",
            "25/25 - 46s - loss: 0.1923 - accuracy: 0.9375 - val_loss: 0.1594 - val_accuracy: 0.9500 - 46s/epoch - 2s/step\n",
            "Epoch 18/20\n",
            "25/25 - 48s - loss: 0.1612 - accuracy: 0.9463 - val_loss: 0.1755 - val_accuracy: 0.9375 - 48s/epoch - 2s/step\n",
            "Epoch 19/20\n",
            "25/25 - 46s - loss: 0.1827 - accuracy: 0.9475 - val_loss: 0.1271 - val_accuracy: 0.9563 - 46s/epoch - 2s/step\n",
            "Epoch 20/20\n",
            "25/25 - 46s - loss: 0.1393 - accuracy: 0.9488 - val_loss: 0.2713 - val_accuracy: 0.9250 - 46s/epoch - 2s/step\n",
            "Duration: 0:22:07.470445\n"
          ]
        }
      ]
    },
    {
      "cell_type": "code",
      "source": [
        "acc = history.history['accuracy']\n",
        "val_acc = history.history['val_accuracy']\n",
        "\n",
        "loss = history.history['loss']\n",
        "val_loss = history.history['val_loss']\n",
        "\n",
        "epochs_range = range(20)\n",
        "\n",
        "plt.figure(figsize=(16, 6))\n",
        "plt.subplot(1, 2, 1)\n",
        "plt.plot(epochs_range, acc, label='Training Accuracy')\n",
        "plt.plot(epochs_range, val_acc, label='Validation Accuracy')\n",
        "plt.legend(loc='lower right')\n",
        "plt.title('Training and Validation Accuracy')"
      ],
      "metadata": {
        "colab": {
          "base_uri": "https://localhost:8080/",
          "height": 407
        },
        "id": "nFtzTtpMHqUn",
        "outputId": "7fd23d06-3d15-43ac-a5b9-be48065d6c77"
      },
      "execution_count": 31,
      "outputs": [
        {
          "output_type": "execute_result",
          "data": {
            "text/plain": [
              "Text(0.5, 1.0, 'Training and Validation Accuracy')"
            ]
          },
          "metadata": {},
          "execution_count": 31
        },
        {
          "output_type": "display_data",
          "data": {
            "text/plain": [
              "<Figure size 1152x432 with 1 Axes>"
            ],
            "image/png": "[encoded data removed]"
          },
          "metadata": {
            "needs_background": "light"
          }
        }
      ]
    },
    {
      "cell_type": "code",
      "source": [
        "plt.figure(figsize=(16, 6))\n",
        "plt.subplot(1, 2, 2)\n",
        "plt.plot(epochs_range, loss, label='Training Loss')\n",
        "plt.plot(epochs_range, val_loss, label='Validation Loss')\n",
        "plt.legend(loc='upper right')\n",
        "plt.title('Training and Validation Loss')\n",
        "plt.show()"
      ],
      "metadata": {
        "colab": {
          "base_uri": "https://localhost:8080/",
          "height": 390
        },
        "id": "DDj1YEbnItwd",
        "outputId": "a6c8f3a0-ef1b-409c-8b8a-655be7faa35a"
      },
      "execution_count": 32,
      "outputs": [
        {
          "output_type": "display_data",
          "data": {
            "text/plain": [
              "<Figure size 1152x432 with 1 Axes>"
            ],
            "image/png": "[encoded data removed]"
          },
          "metadata": {
            "needs_background": "light"
          }
        }
      ]
    },
    {
      "cell_type": "code",
      "source": [
        "from tensorflow.keras.utils import img_to_array"
      ],
      "metadata": {
        "id": "NH53kMqsLSmw"
      },
      "execution_count": 41,
      "outputs": []
    },
    {
      "cell_type": "code",
      "source": [
        "import numpy as np\n",
        "from google.colab import files\n",
        "from keras.preprocessing import image\n",
        "import matplotlib.pyplot as plt\n",
        "import matplotlib.image as mpimg\n",
        "import matplotlib.pyplot as plt\n",
        "import matplotlib.image as mpimg\n",
        "import keras\n",
        "import tensorflow as tf\n",
        "%matplotlib inline\n",
        "\n",
        "uploaded = files.upload()\n",
        "\n",
        "for fn in uploaded.keys():\n",
        "\n",
        "  path = fn \n",
        "  img = tf.keras.utils.load_img(path, target_size =(150,150))\n",
        "  imgplot = plt.imshow(img)\n",
        "  x = tf.keras.utils.img_to_array(img)\n",
        "  x = np.expand_dims(x, axis=0)\n",
        "\n",
        "  images = np.vstack([x])\n",
        "  classes = model.predict(images, batch_size=10)\n",
        "\n",
        "  print(fn)\n",
        "  if classes[0,0]!=0:\n",
        "    print('Uninfected')\n",
        "  elif classes[0,1]!=0:\n",
        "    print('Parasitized')"
      ],
      "metadata": {
        "colab": {
          "base_uri": "https://localhost:8080/",
          "height": 377
        },
        "id": "lIezBMzdJAjG",
        "outputId": "8258a82f-0d12-4a70-bec8-cd991f88e1c0"
      },
      "execution_count": 42,
      "outputs": [
        {
          "output_type": "display_data",
          "data": {
            "text/plain": [
              "<IPython.core.display.HTML object>"
            ],
            "text/html": [
              "\n",
              "     <input type=\"file\" id=\"files-8b015ddd-5194-46b5-84c9-f6df1c34c50f\" name=\"files[]\" multiple disabled\n",
              "        style=\"border:none\" />\n",
              "     <output id=\"result-8b015ddd-5194-46b5-84c9-f6df1c34c50f\">\n",
              "      Upload widget is only available when the cell has been executed in the\n",
              "      current browser session. Please rerun this cell to enable.\n",
              "      </output>\n",
              "      <script>// Copyright 2017 Google LLC\n",
              "//\n",
              "// Licensed under the Apache License, Version 2.0 (the \"License\");\n",
              "// you may not use this file except in compliance with the License.\n",
              "// You may obtain a copy of the License at\n",
              "//\n",
              "//      http://www.apache.org/licenses/LICENSE-2.0\n",
              "//\n",
              "// Unless required by applicable law or agreed to in writing, software\n",
              "// distributed under the License is distributed on an \"AS IS\" BASIS,\n",
              "// WITHOUT WARRANTIES OR CONDITIONS OF ANY KIND, either express or implied.\n",
              "// See the License for the specific language governing permissions and\n",
              "// limitations under the License.\n",
              "\n",
              "/**\n",
              " * @fileoverview Helpers for google.colab Python module.\n",
              " */\n",
              "(function(scope) {\n",
              "function span(text, styleAttributes = {}) {\n",
              "  const element = document.createElement('span');\n",
              "  element.textContent = text;\n",
              "  for (const key of Object.keys(styleAttributes)) {\n",
              "    element.style[key] = styleAttributes[key];\n",
              "  }\n",
              "  return element;\n",
              "}\n",
              "\n",
              "// Max number of bytes which will be uploaded at a time.\n",
              "const MAX_PAYLOAD_SIZE = 100 * 1024;\n",
              "\n",
              "function _uploadFiles(inputId, outputId) {\n",
              "  const steps = uploadFilesStep(inputId, outputId);\n",
              "  const outputElement = document.getElementById(outputId);\n",
              "  // Cache steps on the outputElement to make it available for the next call\n",
              "  // to uploadFilesContinue from Python.\n",
              "  outputElement.steps = steps;\n",
              "\n",
              "  return _uploadFilesContinue(outputId);\n",
              "}\n",
              "\n",
              "// This is roughly an async generator (not supported in the browser yet),\n",
              "// where there are multiple asynchronous steps and the Python side is going\n",
              "// to poll for completion of each step.\n",
              "// This uses a Promise to block the python side on completion of each step,\n",
              "// then passes the result of the previous step as the input to the next step.\n",
              "function _uploadFilesContinue(outputId) {\n",
              "  const outputElement = document.getElementById(outputId);\n",
              "  const steps = outputElement.steps;\n",
              "\n",
              "  const next = steps.next(outputElement.lastPromiseValue);\n",
              "  return Promise.resolve(next.value.promise).then((value) => {\n",
              "    // Cache the last promise value to make it available to the next\n",
              "    // step of the generator.\n",
              "    outputElement.lastPromiseValue = value;\n",
              "    return next.value.response;\n",
              "  });\n",
              "}\n",
              "\n",
              "/**\n",
              " * Generator function which is called between each async step of the upload\n",
              " * process.\n",
              " * @param {string} inputId Element ID of the input file picker element.\n",
              " * @param {string} outputId Element ID of the output display.\n",
              " * @return {!Iterable<!Object>} Iterable of next steps.\n",
              " */\n",
              "function* uploadFilesStep(inputId, outputId) {\n",
              "  const inputElement = document.getElementById(inputId);\n",
              "  inputElement.disabled = false;\n",
              "\n",
              "  const outputElement = document.getElementById(outputId);\n",
              "  outputElement.innerHTML = '';\n",
              "\n",
              "  const pickedPromise = new Promise((resolve) => {\n",
              "    inputElement.addEventListener('change', (e) => {\n",
              "      resolve(e.target.files);\n",
              "    });\n",
              "  });\n",
              "\n",
              "  const cancel = document.createElement('button');\n",
              "  inputElement.parentElement.appendChild(cancel);\n",
              "  cancel.textContent = 'Cancel upload';\n",
              "  const cancelPromise = new Promise((resolve) => {\n",
              "    cancel.onclick = () => {\n",
              "      resolve(null);\n",
              "    };\n",
              "  });\n",
              "\n",
              "  // Wait for the user to pick the files.\n",
              "  const files = yield {\n",
              "    promise: Promise.race([pickedPromise, cancelPromise]),\n",
              "    response: {\n",
              "      action: 'starting',\n",
              "    }\n",
              "  };\n",
              "\n",
              "  cancel.remove();\n",
              "\n",
              "  // Disable the input element since further picks are not allowed.\n",
              "  inputElement.disabled = true;\n",
              "\n",
              "  if (!files) {\n",
              "    return {\n",
              "      response: {\n",
              "        action: 'complete',\n",
              "      }\n",
              "    };\n",
              "  }\n",
              "\n",
              "  for (const file of files) {\n",
              "    const li = document.createElement('li');\n",
              "    li.append(span(file.name, {fontWeight: 'bold'}));\n",
              "    li.append(span(\n",
              "        `(${file.type || 'n/a'}) - ${file.size} bytes, ` +\n",
              "        `last modified: ${\n",
              "            file.lastModifiedDate ? file.lastModifiedDate.toLocaleDateString() :\n",
              "                                    'n/a'} - `));\n",
              "    const percent = span('0% done');\n",
              "    li.appendChild(percent);\n",
              "\n",
              "    outputElement.appendChild(li);\n",
              "\n",
              "    const fileDataPromise = new Promise((resolve) => {\n",
              "      const reader = new FileReader();\n",
              "      reader.onload = (e) => {\n",
              "        resolve(e.target.result);\n",
              "      };\n",
              "      reader.readAsArrayBuffer(file);\n",
              "    });\n",
              "    // Wait for the data to be ready.\n",
              "    let fileData = yield {\n",
              "      promise: fileDataPromise,\n",
              "      response: {\n",
              "        action: 'continue',\n",
              "      }\n",
              "    };\n",
              "\n",
              "    // Use a chunked sending to avoid message size limits. See b/62115660.\n",
              "    let position = 0;\n",
              "    do {\n",
              "      const length = Math.min(fileData.byteLength - position, MAX_PAYLOAD_SIZE);\n",
              "      const chunk = new Uint8Array(fileData, position, length);\n",
              "      position += length;\n",
              "\n",
              "      const base64 = btoa(String.fromCharCode.apply(null, chunk));\n",
              "      yield {\n",
              "        response: {\n",
              "          action: 'append',\n",
              "          file: file.name,\n",
              "          data: base64,\n",
              "        },\n",
              "      };\n",
              "\n",
              "      let percentDone = fileData.byteLength === 0 ?\n",
              "          100 :\n",
              "          Math.round((position / fileData.byteLength) * 100);\n",
              "      percent.textContent = `${percentDone}% done`;\n",
              "\n",
              "    } while (position < fileData.byteLength);\n",
              "  }\n",
              "\n",
              "  // All done.\n",
              "  yield {\n",
              "    response: {\n",
              "      action: 'complete',\n",
              "    }\n",
              "  };\n",
              "}\n",
              "\n",
              "scope.google = scope.google || {};\n",
              "scope.google.colab = scope.google.colab || {};\n",
              "scope.google.colab._files = {\n",
              "  _uploadFiles,\n",
              "  _uploadFilesContinue,\n",
              "};\n",
              "})(self);\n",
              "</script> "
            ]
          },
          "metadata": {}
        },
        {
          "output_type": "stream",
          "name": "stdout",
          "text": [
            "Saving C100P61ThinF_IMG_20150918_144104_cell_162.png to C100P61ThinF_IMG_20150918_144104_cell_162.png\n",
            "1/1 [==============================] - 0s 169ms/step\n",
            "C100P61ThinF_IMG_20150918_144104_cell_162.png\n",
            "Uninfected\n"
          ]
        },
        {
          "output_type": "display_data",
          "data": {
            "text/plain": [
              "<Figure size 432x288 with 1 Axes>"
            ],
            "image/png": "[encoded data removed]"
          },
          "metadata": {
            "needs_background": "light"
          }
        }
      ]
    }
  ]
}